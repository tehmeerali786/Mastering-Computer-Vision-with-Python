{
 "cells": [
  {
   "cell_type": "markdown",
   "metadata": {},
   "source": [
    "# Hi and welcome to your first code along lesson!"
   ]
  },
  {
   "cell_type": "markdown",
   "metadata": {},
   "source": [
    "### Reading, writing and display images with OpenCV \n",
    "Let's start by importing the OpenCV Library"
   ]
  },
  {
   "cell_type": "code",
   "execution_count": 1,
   "metadata": {
    "collapsed": true
   },
   "outputs": [],
   "source": [
    "# Press CTRL + Enter to run this line\n",
    "# You should see an * between the [ ] on the left\n",
    "# OpenCV takes a couple seconds to import the first time\n",
    "\n",
    "import cv2"
   ]
  },
  {
   "cell_type": "code",
   "execution_count": 2,
   "metadata": {
    "collapsed": true
   },
   "outputs": [],
   "source": [
    "# Now let's import numpy\n",
    "# We use as np, so That everything we call on numpy, we can type np instead\n",
    "\n",
    "import numpy as np"
   ]
  },
  {
   "cell_type": "code",
   "execution_count": 3,
   "metadata": {
    "collapsed": true
   },
   "outputs": [],
   "source": [
    "# We don't need to do this again, but it's good habit\n",
    "import cv2\n",
    "\n",
    "# Load an image using 'imread' specifying the path to image\n",
    "input = cv2.imread('./images/input.jpg')\n",
    "\n",
    "# Our file 'input.jpg' is now loaded and stored in python\n",
    "# as a variable we named 'image'\n",
    "\n",
    "# To display our image variable, we use 'imshow'\n",
    "# The first parameter will be title shown on image window\n",
    "# The second parameter is the image variable\n",
    "cv2.imshow('Hello World', input)\n",
    "\n",
    "# 'waitkey' allows us to input information when a image window is open\n",
    "# By leaving it blank it just waits for anykey to be pressed before\n",
    "# continuing. By placing numbers (except 0), we can specify a delay for \n",
    "# how long you keep the window open (time is in milliseconds here)\n",
    "cv2.waitKey()\n",
    "\n",
    "# This closes all open windows\n",
    "# Failure to place this will cause your program to hang\n",
    "cv2.destroyAllWindows()"
   ]
  },
  {
   "cell_type": "markdown",
   "metadata": {},
   "source": [
    "## Lets take a closer look at how images are stored"
   ]
  },
  {
   "cell_type": "code",
   "execution_count": 6,
   "metadata": {
    "collapsed": true
   },
   "outputs": [],
   "source": [
    "# Import numpy \n",
    "import numpy as np"
   ]
  },
  {
   "cell_type": "code",
   "execution_count": 8,
   "metadata": {},
   "outputs": [
    {
     "name": "stdout",
     "output_type": "stream",
     "text": [
      "(427, 640, 3)\n"
     ]
    }
   ],
   "source": [
    "print(input.shape)"
   ]
  },
  {
   "cell_type": "code",
   "execution_count": 9,
   "metadata": {},
   "outputs": [
    {
     "name": "stdout",
     "output_type": "stream",
     "text": [
      "Heigh of the Image:  427 pixels\n",
      "Width of the Image:  640 pixels\n"
     ]
    }
   ],
   "source": [
    "# Let's print each dimension of the image\n",
    "\n",
    "print('Heigh of the Image: ', int(input.shape[0]), 'pixels') \n",
    "print('Width of the Image: ', int(input.shape[1]), 'pixels') "
   ]
  },
  {
   "cell_type": "code",
   "execution_count": 10,
   "metadata": {},
   "outputs": [
    {
     "name": "stdout",
     "output_type": "stream",
     "text": [
      "[[[ 81 115 139]\n",
      "  [ 71  96 136]\n",
      "  [ 50  86 110]\n",
      "  ...\n",
      "  [ 69  40  43]\n",
      "  [ 72  41  40]\n",
      "  [ 75  42  39]]\n",
      "\n",
      " [[ 66  63  88]\n",
      "  [ 88 114 131]\n",
      "  [ 63  86 112]\n",
      "  ...\n",
      "  [ 69  40  43]\n",
      "  [ 72  40  41]\n",
      "  [ 75  41  41]]\n",
      "\n",
      " [[ 44  62  79]\n",
      "  [ 66  67  95]\n",
      "  [ 91 118 144]\n",
      "  ...\n",
      "  [ 69  40  43]\n",
      "  [ 71  40  41]\n",
      "  [ 72  41  40]]\n",
      "\n",
      " ...\n",
      "\n",
      " [[ 63  94 119]\n",
      "  [ 62  92 117]\n",
      "  [ 72 107 133]\n",
      "  ...\n",
      "  [ 15  37  62]\n",
      "  [ 24  41  67]\n",
      "  [ 24  39  65]]\n",
      "\n",
      " [[ 65  96 121]\n",
      "  [ 63  93 118]\n",
      "  [ 72 107 133]\n",
      "  ...\n",
      "  [ 14  36  61]\n",
      "  [ 23  40  66]\n",
      "  [ 22  37  63]]\n",
      "\n",
      " [[ 67 101 125]\n",
      "  [ 64  95 120]\n",
      "  [ 72 107 133]\n",
      "  ...\n",
      "  [ 14  36  61]\n",
      "  [ 22  39  65]\n",
      "  [ 24  37  63]]]\n"
     ]
    }
   ],
   "source": [
    "print(input)"
   ]
  },
  {
   "cell_type": "markdown",
   "metadata": {},
   "source": [
    "## How do we save images we edit in OpenCV?"
   ]
  },
  {
   "cell_type": "code",
   "execution_count": 11,
   "metadata": {},
   "outputs": [
    {
     "data": {
      "text/plain": [
       "True"
      ]
     },
     "execution_count": 11,
     "metadata": {},
     "output_type": "execute_result"
    }
   ],
   "source": [
    "# Simply use 'imwrite' Specifying the file name and the image to be saved\n",
    "cv2.imwrite('output.jpg', input)\n",
    "cv2.imwrite('output.png', input)"
   ]
  },
  {
   "cell_type": "code",
   "execution_count": 12,
   "metadata": {
    "collapsed": true
   },
   "outputs": [],
   "source": [
    "cv2.imshow('Hello World', input)\n",
    "cv2.waitKey()\n",
    "cv2.destroyAllWindows()"
   ]
  },
  {
   "cell_type": "code",
   "execution_count": null,
   "metadata": {
    "collapsed": true
   },
   "outputs": [],
   "source": []
  }
 ],
 "metadata": {
  "kernelspec": {
   "display_name": "Python 3",
   "language": "python",
   "name": "python3"
  },
  "language_info": {
   "codemirror_mode": {
    "name": "ipython",
    "version": 3
   },
   "file_extension": ".py",
   "mimetype": "text/x-python",
   "name": "python",
   "nbconvert_exporter": "python",
   "pygments_lexer": "ipython3",
   "version": "3.6.1"
  }
 },
 "nbformat": 4,
 "nbformat_minor": 2
}
