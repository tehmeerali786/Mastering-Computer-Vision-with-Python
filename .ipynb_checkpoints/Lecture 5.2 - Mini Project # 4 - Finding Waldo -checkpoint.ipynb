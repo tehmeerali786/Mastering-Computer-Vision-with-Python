{
 "cells": [
  {
   "cell_type": "markdown",
   "metadata": {},
   "source": [
    "# Mini Project # 4 - Finding Waldo "
   ]
  },
  {
   "cell_type": "code",
   "execution_count": 12,
   "metadata": {
    "collapsed": true
   },
   "outputs": [],
   "source": [
    "import cv2\n",
    "import numpy as np\n",
    "\n",
    "# Load input image and convert to grayscale\n",
    "image = cv2.imread('images/WaldoBeach.jpg')\n",
    "cv2.imshow('Where is Waldo image?', image)\n",
    "cv2.waitKey(0)\n",
    "gray = cv2.cvtColor(image, cv2.COLOR_BGR2GRAY)\n",
    "\n",
    "# Load template image\n",
    "template = cv2.imread('images/Waldo.jpg')\n",
    "gray2 = cv2.cvtColor(template, cv2.COLOR_BGR2GRAY)\n",
    "\n",
    "result = cv2.matchTemplate(gray, gray2, cv2.TM_CCOEFF)\n",
    "min_val, max_val, min_loc, max_loc = cv2.minMaxLoc(result)\n",
    "\n",
    "# Create Bounding Box\n",
    "top_left = max_loc\n",
    "bottom_right = (top_left[0] + 50, top_left[1] + 50)\n",
    "cv2.rectangle(image, top_left, bottom_right, (0, 0, 255), 5)\n",
    "\n",
    "cv2.imshow('Where is Waldo?', image)\n",
    "cv2.waitKey(0)\n",
    "cv2.destroyAllWindows()"
   ]
  },
  {
   "cell_type": "markdown",
   "metadata": {
    "collapsed": true
   },
   "source": [
    "## Notes on Template Matching\n",
    "\n",
    "There are variety of methods to perform template matching. However, in this case, we are using the correlation coefficient which is specified by the flag cv2.TM_CCOEFF.\n",
    "\n",
    "So what exactly is the cv2.match Template function doing? Essentially, this function takes a \"sliding window\" of our waldo query image and slides it across our puzzle image from left to right and top to bottom, one pixel at a time. Then, for each of these locations, we compute the correlation coefficient to determine how \"good\" or \"bad\" the match is.\n",
    "\n",
    "Regions with sufficientl high correlation can be considered \"matches\" for our waldo template. From there, all we need is a call to cv2.minMaxLoc on Line 15 to find where our \"good\" matches are. That's really all there is to template matching! \n",
    "http://docs.opencv.org/2.4/modules/imgproc/object.detection.html "
   ]
  },
  {
   "cell_type": "code",
   "execution_count": null,
   "metadata": {
    "collapsed": true
   },
   "outputs": [],
   "source": []
  }
 ],
 "metadata": {
  "kernelspec": {
   "display_name": "Python 3",
   "language": "python",
   "name": "python3"
  },
  "language_info": {
   "codemirror_mode": {
    "name": "ipython",
    "version": 3
   },
   "file_extension": ".py",
   "mimetype": "text/x-python",
   "name": "python",
   "nbconvert_exporter": "python",
   "pygments_lexer": "ipython3",
   "version": "3.6.1"
  }
 },
 "nbformat": 4,
 "nbformat_minor": 2
}
