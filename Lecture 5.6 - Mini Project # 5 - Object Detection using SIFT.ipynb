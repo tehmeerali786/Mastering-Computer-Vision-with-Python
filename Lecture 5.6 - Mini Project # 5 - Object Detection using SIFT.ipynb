{
 "cells": [
  {
   "cell_type": "markdown",
   "metadata": {},
   "source": [
    "# Mini Project # 5 - Object Detection using SIFT"
   ]
  },
  {
   "cell_type": "code",
   "execution_count": 1,
   "metadata": {},
   "outputs": [
    {
     "data": {
      "text/plain": [
       "<function cv2.destroyAllWindows>"
      ]
     },
     "execution_count": 1,
     "metadata": {},
     "output_type": "execute_result"
    }
   ],
   "source": [
    "import cv2\n",
    "import numpy as np\n",
    "\n",
    "def sift_detector(new_image, image_template):\n",
    "    # Function that compares input image to template\n",
    "    # It then returns the number of SIFT matches between them\n",
    "    \n",
    "    image1 = cv2.cvtColor(new_image, cv2.COLOR_BGR2GRAY)\n",
    "    image2 = image_template\n",
    "    \n",
    "    # Create SIFT detector object\n",
    "    sift = cv2.SIFT()\n",
    "    \n",
    "    # Obtain the keypoints and descriptors using SIFT\n",
    "    keypoints_1, descriptors_1 = sift.detectAndCompute(image1, None)\n",
    "    keypoints_2, descriptors_2 = sift.detectAndCompute(image2, None)\n",
    "    \n",
    "    # Define our parameters for our Flann Matcher\n",
    "    FLANN_INDEX_KDTREE = 0\n",
    "    index_params = dict(algorithm = FLANN_INDEX_KDTREE, trees=3)\n",
    "    search_params = dict(checks = 100)\n",
    "    \n",
    "    # Create the Flann Matcher object\n",
    "    flann = cv2.FlannBasedMatcher(index_params, search_params)\n",
    "    \n",
    "    # Obtain matches using K-Nearest Neibors Method\n",
    "    # the result 'matchs' is\n",
    "    matches = flann.knnMatch(descriptors_1, descriptors_2, k=2)\n",
    "    \n",
    "    # Store good matches using Lowe's ratio test\n",
    "    good_matches = []\n",
    "    for m, n in matches:\n",
    "        if m.distance < 0.7 * n.distance:\n",
    "            good_matches.append(m)\n",
    "            \n",
    "    return len(good_matches)\n",
    "\n",
    "cap = cv2.VideoCapture(0)\n",
    "\n",
    "# Load our image template, this is our reference image\n",
    "image_template = cv2.imread('images/iphone4.jpg', 0)\n",
    "\n",
    "while True:\n",
    "    # Get webcam images\n",
    "    ret, frame = cap.read()\n",
    "    \n",
    "    # Get height and width of the webcam frame\n",
    "    height, width = frame.shape[:2]\n",
    "    \n",
    "    # Define ROI Box Dimensions\n",
    "    top_left_x = width/3\n",
    "    top_left_y = (height / 2) + (height / 4)\n",
    "    bottom_right_x = (width / 3) * 2\n",
    "    bottom_right_y = (height / 2) - (height / 4)\n",
    "    \n",
    "    # Draw rectangular window for our region of interest\n",
    "    cv2.rectangle(frame, (top_left_x, top_left_y), (bottom_right_x, bottom_right_y), 255, 3)\n",
    "    \n",
    "    # Crop window of observation we defined above\n",
    "    cropped = frame[bottom_right_y:top_left_y, top_left_x:bottom_right_x]\n",
    "    \n",
    "    # Flip frame orientation horizontally\n",
    "    frame = cv2.flip(frame, 1)\n",
    "    \n",
    "    # Get number of SIFT matches\n",
    "    matches = sift_detector(cropped, image_template)\n",
    "    \n",
    "    # Display status string showing the current no. of matches\n",
    "    cv2.putText(frame, str(matches), (450, 450), cv2.FONT_HERSHEY_COMPLEX, 2, (0, 255, 0), 1)\n",
    "    \n",
    "    # Our threshold to indicate object detection\n",
    "    # We use 10 since the SIFT detector returns little false positives\n",
    "    threshold = 10\n",
    "    \n",
    "    # If matches exceed our threshold then object has been detected.\n",
    "    if matches > threshold:\n",
    "        cv2.rectangle(frame, (top_left_x, top_left_y), (bottom_right_x, bottom_right_y), (0, 255, 0), 3)\n",
    "        cv2.putText(frame, 'Object Found', (50, 50), cv2.FONT_HERSHEY_COMPLEX, 2, (0, 255, 0), 2)\n",
    "        \n",
    "    cv2.imshow('Object Detector using SIFT', frame)\n",
    "    if cv2.waitKey(1) == 13: #13 is the Enter Key\n",
    "        break\n",
    "        \n",
    "cap.release()\n",
    "cv2.destroyAllWindows"
   ]
  },
  {
   "cell_type": "markdown",
   "metadata": {},
   "source": [
    "#### Flannbased matching is quite fast, but not the most accurate. Other matching method include:\n",
    "\n",
    "- Brute Force\n",
    "- Brute Force - SL2(not in the documentation, But this is the one that keeps that square root\n",
    "- Brute Force - L1\n",
    "- Brute Force - Hamming\n",
    "- Brute Force - Hamming(2)"
   ]
  },
  {
   "cell_type": "code",
   "execution_count": null,
   "metadata": {},
   "outputs": [],
   "source": [
    "import cv2\n",
    "import numpy as np\n",
    "\n",
    "def ORB_detector(new_image, image_template):\n",
    "    # Function that compares input image to template\n",
    "    # It then returns the number of ORB matches between them\n",
    "    \n",
    "    image1 = cv2.cvtColor(new_image, cv2.COLOR_BGR2GRAY)\n",
    "    \n",
    "    # Create ORB detector with 1000 keypoints with a scaling pyramid factor of 1.2\n",
    "    orb = cv2.ORB(1000, 1.2)\n",
    "    \n",
    "    # Detect keypoints of original image\n",
    "    (k1, des1) = orb.detectAndCompute(image1, None)\n",
    "    \n",
    "    # Detect keypoints of rotated image\n",
    "    (k2, des2) = orb.detectAndCompute(image2, None)\n",
    "    \n",
    "    # Create matcher\n",
    "    # Note we are no longer using Flannbased matching\n",
    "    bf = cv2.BFMatcher(cv2.NORM_HAMMING, crossCheck=True)\n",
    "    "
   ]
  }
 ],
 "metadata": {
  "kernelspec": {
   "display_name": "Python 2",
   "language": "python",
   "name": "python2"
  },
  "language_info": {
   "codemirror_mode": {
    "name": "ipython",
    "version": 2
   },
   "file_extension": ".py",
   "mimetype": "text/x-python",
   "name": "python",
   "nbconvert_exporter": "python",
   "pygments_lexer": "ipython2",
   "version": "2.7.15"
  }
 },
 "nbformat": 4,
 "nbformat_minor": 2
}
