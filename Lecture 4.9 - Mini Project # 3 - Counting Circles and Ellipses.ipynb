{
 "cells": [
  {
   "cell_type": "markdown",
   "metadata": {},
   "source": [
    "# Mini Project # 3 - Counting Circles and Ellipses"
   ]
  },
  {
   "cell_type": "code",
   "execution_count": 5,
   "metadata": {
    "collapsed": true
   },
   "outputs": [],
   "source": [
    "import cv2\n",
    "import numpy as np\n",
    "\n",
    "# Load image\n",
    "image = cv2.imread(\"images/blobs.jpg\", 0)\n",
    "cv2.imshow('Original Image', image)\n",
    "\n",
    "# Setup SimpleBlobDetector parameters.\n",
    "params = cv2.SimpleBlobDetector_Params()\n",
    "\n",
    "# Change thresholds\n",
    "params.minThreshold = 10\n",
    "params.maxThreshold = 200\n",
    "\n",
    "\n",
    "# Filter by Area.\n",
    "params.filterByArea = False\n",
    "# params.minArea = 100\n",
    "\n",
    "# Filter by Circularity\n",
    "params.filterByCircularity = False\n",
    "#params.minCircularity = 0.9\n",
    "\n",
    "# Filter by Convexity\n",
    "params.filterByConvexity = False\n",
    "# params.minConvexity = 0.2\n",
    "\n",
    "# Filter by Inertia\n",
    "params.filterByInertia = False\n",
    "#params.minInertiaRatio = 0.01\n",
    "\n",
    "\n",
    "# Initialize the detector using the default parameters\n",
    "detector = cv2.SimpleBlobDetector_create(params)\n",
    "\n",
    "keypoints= detector.detect(image)\n",
    "\n",
    "# Draw blobs on our image as red circles \n",
    "blank = np.zeros((1, 1))\n",
    "blobs = cv2.drawKeypoints(image, keypoints, blank, (0, 0, 255), cv2.DRAW_MATCHES_FLAGS_DRAW_RICH_KEYPOINTS)\n",
    "\n",
    "number_of_blobs = len(keypoints)\n",
    "text = \"Total Number of Blobs: \" + str(len(keypoints))\n",
    "cv2.putText(blobs, text, (20, 550), cv2.FONT_HERSHEY_SIMPLEX, 1, (100, 0, 255), 2)\n",
    "\n",
    "# Display image with blobs keypoints\n",
    "cv2.imshow(\"Blobs using default parameters\", blobs)\n",
    "cv2.waitKey(0)\n",
    "\n",
    "# Set our filtering parameters\n",
    "# Initialize parameter setting using cv2.SimpleBlobDetector\n",
    "\n",
    "\n",
    "\n",
    "\n",
    "cv2.destroyAllWindows()\n",
    "\n"
   ]
  },
  {
   "cell_type": "code",
   "execution_count": null,
   "metadata": {
    "collapsed": true
   },
   "outputs": [],
   "source": []
  }
 ],
 "metadata": {
  "kernelspec": {
   "display_name": "Python 3",
   "language": "python",
   "name": "python3"
  },
  "language_info": {
   "codemirror_mode": {
    "name": "ipython",
    "version": 3
   },
   "file_extension": ".py",
   "mimetype": "text/x-python",
   "name": "python",
   "nbconvert_exporter": "python",
   "pygments_lexer": "ipython3",
   "version": "3.6.1"
  }
 },
 "nbformat": 4,
 "nbformat_minor": 2
}
